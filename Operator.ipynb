{
 "cells": [
  {
   "cell_type": "markdown",
   "id": "f82bc3cf-93d6-4ac1-977b-4c20d23dd468",
   "metadata": {},
   "source": [
    "<h1> penggunakan aritmatika phyton: x, :, +, -,</h1>"
   ]
  },
  {
   "cell_type": "code",
   "execution_count": 9,
   "id": "1dd537be-5066-4145-8e21-6ea6eed40766",
   "metadata": {},
   "outputs": [
    {
     "name": "stdout",
     "output_type": "stream",
     "text": [
      "75\n",
      "65\n",
      "350\n",
      "14.0\n",
      "14\n",
      "1680700000\n",
      "0\n"
     ]
    }
   ],
   "source": [
    "\n",
    "num1 = 70\n",
    "num2 = 5\n",
    "hasil_jumlah = num1 + num2\n",
    "hasil_kurang = num1 - num2 \n",
    "hasil_kali = num1 * num2 \n",
    "hasil_bagi = num1 / num2 \n",
    "hasil_bagi_bulat = num1 // num2\n",
    "hasil_pangkat = num1 ** num2 \n",
    "hasil_modulus = num1 % num2 \n",
    "\n",
    "print(hasil_jumlah)\n",
    "print(hasil_kurang)\n",
    "print(hasil_kali)\n",
    "print(hasil_bagi)\n",
    "print(hasil_bagi_bulat)\n",
    "print(hasil_pangkat)\n",
    "print(hasil_modulus)"
   ]
  },
  {
   "cell_type": "markdown",
   "id": "46ab8a63-2b68-45f2-89fc-65fb6a090958",
   "metadata": {},
   "source": [
    "<h1>Operator Penugasan</h1>"
   ]
  },
  {
   "cell_type": "code",
   "execution_count": 24,
   "id": "391220d2-5c20-41c4-82b9-87b506eb84c3",
   "metadata": {},
   "outputs": [
    {
     "name": "stdout",
     "output_type": "stream",
     "text": [
      "10\n",
      "15\n",
      "13\n",
      "52\n",
      "10.4\n",
      "10.0\n",
      "100.0\n",
      "0.0\n"
     ]
    }
   ],
   "source": [
    "x = 10 \n",
    "print(x)\n",
    "x+=5 #x = x + 5 \n",
    "print(x) #15\n",
    "x-= 2 #x = x - 2\n",
    "print(x) #13\n",
    "x*= 4 #x = x * 4\n",
    "print(x) #52\n",
    "x/= 5 #x = x / 5\n",
    "print(x) #10,4\n",
    "x//= 1 # = x // 1\n",
    "print(x) #10.0\n",
    "x**= 2 #x= x ** 2\n",
    "print(x) # 100\n",
    "x%=5 #x= x % 5\n",
    "print(x)\n",
    "\n"
   ]
  },
  {
   "cell_type": "markdown",
   "id": "57f7de47-717a-4221-828a-f89ba80986f1",
   "metadata": {},
   "source": [
    "<h1> Operator Perbandingan</h1>"
   ]
  },
  {
   "cell_type": "code",
   "execution_count": 40,
   "id": "c684d1e4-e704-4d42-b247-18053b1f50c6",
   "metadata": {},
   "outputs": [
    {
     "name": "stdout",
     "output_type": "stream",
     "text": [
      "False\n",
      "True\n",
      "False\n",
      "True\n"
     ]
    }
   ],
   "source": [
    "y = 70\n",
    "z = 100\n",
    "\n",
    "print(y==z) #false\n",
    "print(y!=z) #True\n",
    "print(y>=z) #false\n",
    "print(y<=z) #true"
   ]
  },
  {
   "cell_type": "markdown",
   "id": "fa98da37-177c-4d9d-a143-8782df9fdb3d",
   "metadata": {},
   "source": [
    "<h1> Operator Logika</h1>"
   ]
  },
  {
   "cell_type": "code",
   "execution_count": 47,
   "id": "c1ffcfc1-3f9f-4b9b-b022-ef3ec2ae74e3",
   "metadata": {},
   "outputs": [
    {
     "name": "stdout",
     "output_type": "stream",
     "text": [
      "True\n",
      "True\n",
      "False\n"
     ]
    }
   ],
   "source": [
    "val1= 10\n",
    "val2= 5\n",
    "\n",
    "opr_and = val1 > val2 and val1 <13 #true\n",
    "opr_or = val1 == 9 or val2 >=5 #true\n",
    "opr_not = not(opr_and and opr_or) #false\n",
    "\n",
    "print(opr_and)\n",
    "print(opr_or)\n",
    "print(opr_not)"
   ]
  },
  {
   "cell_type": "markdown",
   "id": "8c5dd2c9-b982-4bac-9155-d14c8670c0ba",
   "metadata": {},
   "source": [
    "<h1> Operator Identitas </h1>"
   ]
  },
  {
   "cell_type": "code",
   "execution_count": 51,
   "id": "e92dafac-105e-4be3-90fc-00eb3808704b",
   "metadata": {},
   "outputs": [
    {
     "name": "stdout",
     "output_type": "stream",
     "text": [
      "True\n",
      "False\n",
      "True\n",
      "False\n"
     ]
    }
   ],
   "source": [
    "fruits = [\"Cheri\",\"Duren\",\"Campedak\"]\n",
    "fav_fruits = fruits\n",
    "your_fruits = [\"Cheri\",\"Duren\",\"Campedak\"]\n",
    "name = \"Obed\"\n",
    "your_name = \"Obed\"\n",
    "\n",
    "print(fav_fruits is fruits) #true\n",
    "print(fruits is your_fruits) #false\n",
    "print(name is your_name) #true\n",
    "print(name is not your_name) #false"
   ]
  },
  {
   "cell_type": "markdown",
   "id": "16e4aa8b-c309-4390-af1d-605f1272147b",
   "metadata": {},
   "source": [
    "<h1> Operator keanggotaan</h1>"
   ]
  },
  {
   "cell_type": "code",
   "execution_count": 56,
   "id": "4f7baa62-3ecb-46d8-853f-1e22b9d53c52",
   "metadata": {},
   "outputs": [
    {
     "name": "stdout",
     "output_type": "stream",
     "text": [
      "True\n",
      "True\n",
      "False\n",
      "False\n",
      "False\n",
      "True\n"
     ]
    }
   ],
   "source": [
    "city = [\"Jakarta\",\"Midgard\",\"Nibbelheim\"]\n",
    "fav_city = [\"Midgard\",\"Nibbelheim\"]\n",
    "hate_city = [\"Jakarta\"]\n",
    "\n",
    "print(\"Jakarta\" in city)\n",
    "print(\"Midgard\" in city)\n",
    "print(\"Nibbelheim\" not in city)\n",
    "print(\"Nibbelheim\" in city and \"Jakarta\" not in city)\n",
    "print(\"Nibbelheim\" not in fav_city)\n",
    "print(\"Jakarta\" in hate_city)"
   ]
  },
  {
   "cell_type": "markdown",
   "id": "f1cbf21c-e9af-4fbf-9617-cc752329d2f2",
   "metadata": {},
   "source": [
    "<h1> Operator Bitwise </h1>"
   ]
  },
  {
   "cell_type": "code",
   "execution_count": 71,
   "id": "54dd1b30-3cf8-4f54-ba1e-2aebb4c04b04",
   "metadata": {},
   "outputs": [
    {
     "name": "stdout",
     "output_type": "stream",
     "text": [
      "15\n",
      "255\n",
      "240\n",
      "256\n",
      "64\n"
     ]
    }
   ],
   "source": [
    "nilai1 = 255\n",
    "nilai2 = 15\n",
    "\n",
    "bit_and = nilai1 & nilai2\n",
    "bit_or = nilai1 | nilai2\n",
    "bit_xor = nilai1 ^ nilai2\n",
    "#11111111 => 255\n",
    "#0001111 => 15\n",
    "\n",
    "print(bit_and)\n",
    "print(bit_or)\n",
    "print(bit_xor)\n",
    "#shift left \n",
    "print(128 << 1)\n",
    "#shift right\n",
    "print(128>>1)"
   ]
  },
  {
   "cell_type": "code",
   "execution_count": null,
   "id": "bffedeed-c20b-4319-911b-21fbcd8c6aa2",
   "metadata": {},
   "outputs": [],
   "source": []
  },
  {
   "cell_type": "code",
   "execution_count": null,
   "id": "130a0f3d-fa5e-4f92-8fb2-0166cd55634d",
   "metadata": {},
   "outputs": [],
   "source": []
  }
 ],
 "metadata": {
  "kernelspec": {
   "display_name": "Python 3 (ipykernel)",
   "language": "python",
   "name": "python3"
  },
  "language_info": {
   "codemirror_mode": {
    "name": "ipython",
    "version": 3
   },
   "file_extension": ".py",
   "mimetype": "text/x-python",
   "name": "python",
   "nbconvert_exporter": "python",
   "pygments_lexer": "ipython3",
   "version": "3.9.12"
  }
 },
 "nbformat": 4,
 "nbformat_minor": 5
}
